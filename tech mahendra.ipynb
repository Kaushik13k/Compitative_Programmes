{
 "cells": [
  {
   "cell_type": "code",
   "execution_count": 53,
   "id": "f2c4b6b3",
   "metadata": {},
   "outputs": [],
   "source": [
    "students = 3\n",
    "subjects = 5\n"
   ]
  },
  {
   "cell_type": "code",
   "execution_count": 54,
   "id": "0c0ee145",
   "metadata": {},
   "outputs": [],
   "source": [
    "# student_subject_score_list = [\n",
    "#     [50, 30, 70], \n",
    "#     [30, 70, 99], \n",
    "#     [99, 20, 30]\n",
    "# ]\n",
    "\n",
    "student_subject_score_list = [\n",
    "    [75, 76, 65, 87, 87], \n",
    "    [78, 76, 68, 56, 89], \n",
    "    [67, 87, 78, 77, 65]\n",
    "]"
   ]
  },
  {
   "cell_type": "code",
   "execution_count": 55,
   "id": "0da0c29f",
   "metadata": {},
   "outputs": [
    {
     "name": "stdout",
     "output_type": "stream",
     "text": [
      "Column wise total of subjects [220, 239, 211, 220, 241]\n"
     ]
    }
   ],
   "source": [
    "# Find sum of columns\n",
    "sum_of_subjects = []\n",
    "for i in range(subjects):\n",
    "    total = 0\n",
    "    for subject_score in student_subject_score_list:\n",
    "        total = total + subject_score[i]\n",
    "    \n",
    "    sum_of_subjects.append(total)\n",
    "\n",
    "\n",
    "print(f\"Column wise total of subjects {sum_of_subjects}\")"
   ]
  },
  {
   "cell_type": "code",
   "execution_count": 56,
   "id": "8cb13c6b",
   "metadata": {},
   "outputs": [
    {
     "name": "stdout",
     "output_type": "stream",
     "text": [
      "least score 211, at index 2\n"
     ]
    }
   ],
   "source": [
    "# Get minimum score, then get index\n",
    "min_sum = sum_of_subjects[0]\n",
    "min_index = 0\n",
    "\n",
    "for i in range(subjects):\n",
    "    # print(sum_of_subjects[i])\n",
    "    # print(min_sum)\n",
    "    if (sum_of_subjects[i] < min_sum):\n",
    "        min_sum = sum_of_subjects[i]\n",
    "        min_index = i\n",
    "\n",
    "print(f\"least score {min_sum}, at index {min_index}\")"
   ]
  },
  {
   "cell_type": "code",
   "execution_count": 57,
   "id": "876cb65f",
   "metadata": {},
   "outputs": [
    {
     "name": "stdout",
     "output_type": "stream",
     "text": [
      "[325, 299, 296]\n"
     ]
    }
   ],
   "source": [
    "student_best_score_avg = []\n",
    "\n",
    "for student_score in student_subject_score_list:\n",
    "    total = 0\n",
    "    for i in range(subjects):\n",
    "        total = total + student_score[i]\n",
    "    \n",
    "    total = total - student_score[min_index]\n",
    "\n",
    "    student_best_score_avg.append(total)\n",
    "\n",
    "print(student_best_score_avg)"
   ]
  },
  {
   "cell_type": "code",
   "execution_count": null,
   "id": "760cce71",
   "metadata": {},
   "outputs": [],
   "source": []
  },
  {
   "cell_type": "code",
   "execution_count": 60,
   "id": "1e5fa7d6",
   "metadata": {},
   "outputs": [
    {
     "name": "stdout",
     "output_type": "stream",
     "text": [
      "False\n"
     ]
    }
   ],
   "source": [
    "def check_geometric_progression(arr):\n",
    "    l = len(arr)\n",
    "\n",
    "    common_ratio = arr[1]/arr[0]\n",
    "\n",
    "    for i in range(2, l):\n",
    "        if arr[i]/arr[i - 1] != common_ratio:\n",
    "            return False\n",
    "\n",
    "    return True\n",
    "\n",
    "\n",
    "first_list = [2, 4, 6, 8, 10]\n",
    "\n",
    "print(check_geometric_progression(first_list))"
   ]
  },
  {
   "cell_type": "code",
   "execution_count": 65,
   "id": "f18e3070",
   "metadata": {},
   "outputs": [
    {
     "ename": "IndentationError",
     "evalue": "expected an indented block (<ipython-input-65-8436afa1d61f>, line 8)",
     "output_type": "error",
     "traceback": [
      "\u001b[1;36m  File \u001b[1;32m\"<ipython-input-65-8436afa1d61f>\"\u001b[1;36m, line \u001b[1;32m8\u001b[0m\n\u001b[1;33m    for i in range(len(nums)-1):\u001b[0m\n\u001b[1;37m    ^\u001b[0m\n\u001b[1;31mIndentationError\u001b[0m\u001b[1;31m:\u001b[0m expected an indented block\n"
     ]
    }
   ],
   "source": [
    "def arithmetic(nums):\n",
    "   nums = sorted(nums)\n",
    "\n",
    "   if len(nums) > 1:\n",
    "      const = nums[1] - nums[0]\n",
    "   else:\n",
    "      return nums\n",
    "        \n",
    "   for i in range(len(nums)-1):\n",
    "      if nums[i+1] - nums[i] != const:\n",
    "         return False\n",
    "   return True\n",
    "\n",
    "nums = [2, 4, 6, 8, 10]\n",
    "print(arithmetic(nums))"
   ]
  },
  {
   "cell_type": "code",
   "execution_count": 68,
   "id": "a5426577",
   "metadata": {},
   "outputs": [
    {
     "name": "stdout",
     "output_type": "stream",
     "text": [
      "3\n"
     ]
    }
   ],
   "source": [
    "\n",
    "# Function for nth Fibonacci number\n",
    "\n",
    "def Fibonacci(n):\n",
    "\tif n<= 0:\n",
    "\t\tprint(\"Incorrect input\")\n",
    "\t# First Fibonacci number is 0\n",
    "\telif n == 1:\n",
    "\t\treturn 0\n",
    "\t# Second Fibonacci number is 1\n",
    "\telif n == 2:\n",
    "\t\treturn 1\n",
    "\telse:\n",
    "\t\treturn Fibonacci(n-1)+Fibonacci(n-2)\n",
    "\n",
    "# Driver Program\n",
    "\n",
    "print(Fibonacci(5))\n",
    "\n",
    "# This code is contributed by Saket Modi\n"
   ]
  },
  {
   "cell_type": "code",
   "execution_count": 83,
   "id": "281d576c",
   "metadata": {},
   "outputs": [
    {
     "name": "stdout",
     "output_type": "stream",
     "text": [
      "5\n",
      "8\n"
     ]
    }
   ],
   "source": [
    "nterms = int(input())\n",
    "\n",
    "ip = nterms + 2\n",
    "n1, n2 = 0, 1\n",
    "count = 0\n",
    "\n",
    "while count < ip+1:\n",
    "   nth = n1 + n2\n",
    "   n1 = n2\n",
    "   n2 = nth\n",
    "   count += 1\n",
    "\n",
    "print(count )"
   ]
  },
  {
   "cell_type": "code",
   "execution_count": 84,
   "id": "ebfae0e0",
   "metadata": {},
   "outputs": [
    {
     "name": "stdout",
     "output_type": "stream",
     "text": [
      "Enter number of elements : 5\n",
      "1\n",
      "1\n",
      "2\n",
      "3\n",
      "5\n",
      "[1, 1, 2, 3, 5]\n"
     ]
    }
   ],
   "source": [
    "# creating an empty list\n",
    "lst = []\n",
    "\n",
    "# number of elements as input\n",
    "n = int(input(\"Enter number of elements : \"))\n",
    "\n",
    "# iterating till the range\n",
    "for i in range(0, n):\n",
    "\tele = int(input())\n",
    "\n",
    "\tlst.append(ele) # adding the element\n",
    "\t\n",
    "print(lst)\n"
   ]
  },
  {
   "cell_type": "code",
   "execution_count": 86,
   "id": "b28b66b8",
   "metadata": {},
   "outputs": [
    {
     "name": "stdout",
     "output_type": "stream",
     "text": [
      "False\n"
     ]
    }
   ],
   "source": [
    "a = check_geometric_progression(lst)\n",
    "print(a)"
   ]
  },
  {
   "cell_type": "code",
   "execution_count": 87,
   "id": "b1d09c8e",
   "metadata": {},
   "outputs": [
    {
     "name": "stdout",
     "output_type": "stream",
     "text": [
      "False\n"
     ]
    }
   ],
   "source": [
    "b = arithmetic(lst)\n",
    "print(b)"
   ]
  },
  {
   "cell_type": "code",
   "execution_count": 88,
   "id": "54bc8316",
   "metadata": {},
   "outputs": [
    {
     "name": "stdout",
     "output_type": "stream",
     "text": [
      "5\n",
      "8\n"
     ]
    }
   ],
   "source": [
    "if a == True:\n",
    "    print(a)\n",
    "elif b == True:\n",
    "    print(b)\n",
    "else:\n",
    "    nterms = int(input())\n",
    "\n",
    "    ip = nterms + 2\n",
    "    n1, n2 = 0, 1\n",
    "    count = 0\n",
    "\n",
    "    while count < ip+1:\n",
    "       nth = n1 + n2\n",
    "       n1 = n2\n",
    "       n2 = nth\n",
    "       count += 1\n",
    "\n",
    "    print(count )"
   ]
  },
  {
   "cell_type": "code",
   "execution_count": 116,
   "id": "e79e58e8",
   "metadata": {},
   "outputs": [
    {
     "name": "stdout",
     "output_type": "stream",
     "text": [
      "False\n",
      "False\n",
      "5\n",
      "8\n"
     ]
    }
   ],
   "source": [
    "def check_geometric_progression(arr):\n",
    "    l = len(arr)\n",
    "\n",
    "    common_ratio = arr[1]/arr[0]\n",
    "\n",
    "    for i in range(2, l):\n",
    "        if arr[i]/arr[i - 1] != common_ratio:\n",
    "            return False\n",
    "\n",
    "    return True\n",
    "\n",
    "\n",
    "def arithmetic(nums):\n",
    "   nums = sorted(nums)\n",
    "\n",
    "   if len(nums) > 1:\n",
    "      const = nums[1] - nums[0]\n",
    "   else:\n",
    "      return nums\n",
    "        \n",
    "   for i in range(len(nums)-1):\n",
    "      if nums[i+1] - nums[i] != const:\n",
    "         return False\n",
    "   return True\n",
    "\n",
    "\n",
    "a = check_geometric_progression(lst)\n",
    "print(a)\n",
    "b = arithmetic(lst)\n",
    "print(b)\n",
    "\n",
    "if a == True:\n",
    "    print(a)\n",
    "elif b == True:\n",
    "    print(b)\n",
    "else:\n",
    "    nterms = int(input())\n",
    "\n",
    "    ip = nterms + 2\n",
    "    n1, n2 = 0, 1\n",
    "    count = 0\n",
    "\n",
    "    while count < ip+1:\n",
    "       nth = n1 + n2\n",
    "       n1 = n2\n",
    "       n2 = nth\n",
    "       count += 1\n",
    "\n",
    "    print(count )"
   ]
  },
  {
   "cell_type": "code",
   "execution_count": 100,
   "id": "3d18d598",
   "metadata": {},
   "outputs": [],
   "source": [
    "a = [2, 4, 6, 8]"
   ]
  },
  {
   "cell_type": "code",
   "execution_count": 96,
   "id": "9ede1c7b",
   "metadata": {},
   "outputs": [
    {
     "name": "stdout",
     "output_type": "stream",
     "text": [
      "2 6 18 54 162 "
     ]
    }
   ],
   "source": [
    "def printGP(a, r, inpu):\n",
    "for i in range(0, n):\n",
    "    curr_term = a * pow(r, i)\n",
    "    print(curr_term, end =\" \")\n",
    "\n",
    "a = 2 # starting number\n",
    "r = 3 # Common ratio\n",
    "n = 5 # N th term to be find\n",
    "\n",
    "printGP(a, r, n)"
   ]
  },
  {
   "cell_type": "code",
   "execution_count": 111,
   "id": "27f4b666",
   "metadata": {},
   "outputs": [
    {
     "name": "stdout",
     "output_type": "stream",
     "text": [
      "2\n"
     ]
    }
   ],
   "source": [
    "lst1 = []\n",
    "for i in a:\n",
    "    for j in a:\n",
    "        q = j+i\n",
    "        w = i\n",
    "        r = q-w\n",
    "        lst1.append(r)\n",
    "print(lst1[0])"
   ]
  },
  {
   "cell_type": "code",
   "execution_count": 115,
   "id": "d231b544",
   "metadata": {},
   "outputs": [
    {
     "name": "stdout",
     "output_type": "stream",
     "text": [
      "1 2 4 8 16 "
     ]
    }
   ],
   "source": [
    "def printGP(a, r, inpu):\n",
    "    for i in range(0, n):\n",
    "        curr_term = a * pow(r, i)\n",
    "        print(curr_term, end =\" \")\n",
    "\n",
    "a = lst[0] # starting number\n",
    "r = lst1[0] # Common ratio\n",
    "n = 5 # N th term to be find\n",
    "\n",
    "printGP(a, r, n)"
   ]
  },
  {
   "cell_type": "code",
   "execution_count": null,
   "id": "a7d25794",
   "metadata": {},
   "outputs": [],
   "source": []
  },
  {
   "cell_type": "code",
   "execution_count": null,
   "id": "950c1389",
   "metadata": {},
   "outputs": [],
   "source": []
  },
  {
   "cell_type": "code",
   "execution_count": null,
   "id": "018fbe12",
   "metadata": {},
   "outputs": [],
   "source": []
  },
  {
   "cell_type": "code",
   "execution_count": null,
   "id": "624d12e5",
   "metadata": {},
   "outputs": [],
   "source": []
  },
  {
   "cell_type": "code",
   "execution_count": null,
   "id": "f5882615",
   "metadata": {},
   "outputs": [],
   "source": []
  },
  {
   "cell_type": "code",
   "execution_count": null,
   "id": "d28effc7",
   "metadata": {},
   "outputs": [],
   "source": []
  },
  {
   "cell_type": "code",
   "execution_count": 118,
   "id": "cf8a09c8",
   "metadata": {},
   "outputs": [
    {
     "name": "stdout",
     "output_type": "stream",
     "text": [
      "Enter number of elements : 5\n",
      "2\n",
      "4\n",
      "6\n",
      "8\n",
      "10\n",
      "[2, 4, 6, 8, 10]\n"
     ]
    }
   ],
   "source": [
    "# creating an empty list\n",
    "lst = []\n",
    "\n",
    "# number of elements as input\n",
    "n = int(input(\"Enter number of elements : \"))\n",
    "\n",
    "# iterating till the range\n",
    "for i in range(0, n):\n",
    "\tele = int(input())\n",
    "\n",
    "\tlst.append(ele) # adding the element\n",
    "\t\n",
    "print(lst)\n"
   ]
  },
  {
   "cell_type": "code",
   "execution_count": 121,
   "id": "b2ca8ffd",
   "metadata": {},
   "outputs": [
    {
     "name": "stdout",
     "output_type": "stream",
     "text": [
      "2\n"
     ]
    }
   ],
   "source": [
    "lst1 = []\n",
    "for i in lst:\n",
    "    for j in lst:\n",
    "        q = j+i\n",
    "        w = i\n",
    "        r = q-w\n",
    "        lst1.append(r)\n",
    "print(lst1[0])"
   ]
  },
  {
   "cell_type": "code",
   "execution_count": 122,
   "id": "d34efc26",
   "metadata": {},
   "outputs": [
    {
     "name": "stdout",
     "output_type": "stream",
     "text": [
      "2 4 8 16 32 "
     ]
    }
   ],
   "source": [
    "def printGP(a, r, inpu):\n",
    "    for i in range(0, n):\n",
    "        curr_term = a * pow(r, i)\n",
    "        print(curr_term, end =\" \")\n",
    "\n",
    "a = lst[0]\n",
    "r = lst1[0]\n",
    "n = 5\n",
    "\n",
    "printGP(a, r, n)"
   ]
  },
  {
   "cell_type": "code",
   "execution_count": 5,
   "id": "d21163ec",
   "metadata": {},
   "outputs": [
    {
     "name": "stdout",
     "output_type": "stream",
     "text": [
      "Enter number of elements : 5\n",
      "2\n",
      "4\n",
      "6\n",
      "8\n",
      "10\n",
      "[2, 4, 6, 8, 10]\n",
      "2\n"
     ]
    },
    {
     "ename": "TypeError",
     "evalue": "'int' object is not subscriptable",
     "output_type": "error",
     "traceback": [
      "\u001b[1;31m---------------------------------------------------------------------------\u001b[0m",
      "\u001b[1;31mTypeError\u001b[0m                                 Traceback (most recent call last)",
      "\u001b[1;32m<ipython-input-5-30ef0d7a5a23>\u001b[0m in \u001b[0;36m<module>\u001b[1;34m\u001b[0m\n\u001b[0;32m     33\u001b[0m \u001b[0mn\u001b[0m \u001b[1;33m=\u001b[0m \u001b[1;36m5\u001b[0m\u001b[1;33m\u001b[0m\u001b[1;33m\u001b[0m\u001b[0m\n\u001b[0;32m     34\u001b[0m \u001b[1;33m\u001b[0m\u001b[0m\n\u001b[1;32m---> 35\u001b[1;33m \u001b[0mprintGP\u001b[0m\u001b[1;33m(\u001b[0m\u001b[0ma\u001b[0m\u001b[1;33m,\u001b[0m \u001b[0mr\u001b[0m\u001b[1;33m,\u001b[0m \u001b[0mn\u001b[0m\u001b[1;33m)\u001b[0m\u001b[1;33m\u001b[0m\u001b[1;33m\u001b[0m\u001b[0m\n\u001b[0m\u001b[0;32m     36\u001b[0m \u001b[1;33m\u001b[0m\u001b[0m\n\u001b[0;32m     37\u001b[0m \u001b[1;32mdef\u001b[0m \u001b[0mcheck_geometric_progression\u001b[0m\u001b[1;33m(\u001b[0m\u001b[0marr\u001b[0m\u001b[1;33m)\u001b[0m\u001b[1;33m:\u001b[0m\u001b[1;33m\u001b[0m\u001b[1;33m\u001b[0m\u001b[0m\n",
      "\u001b[1;32m<ipython-input-5-30ef0d7a5a23>\u001b[0m in \u001b[0;36mprintGP\u001b[1;34m(a, r, inpu)\u001b[0m\n\u001b[0;32m     27\u001b[0m     \u001b[1;32mfor\u001b[0m \u001b[0mi\u001b[0m \u001b[1;32min\u001b[0m \u001b[0mrange\u001b[0m\u001b[1;33m(\u001b[0m\u001b[1;36m0\u001b[0m\u001b[1;33m,\u001b[0m \u001b[0mn\u001b[0m\u001b[1;33m)\u001b[0m\u001b[1;33m:\u001b[0m\u001b[1;33m\u001b[0m\u001b[1;33m\u001b[0m\u001b[0m\n\u001b[0;32m     28\u001b[0m         \u001b[0mcurr_term\u001b[0m \u001b[1;33m=\u001b[0m \u001b[0ma\u001b[0m \u001b[1;33m*\u001b[0m \u001b[0mpow\u001b[0m\u001b[1;33m(\u001b[0m\u001b[0mr\u001b[0m\u001b[1;33m,\u001b[0m \u001b[0mi\u001b[0m\u001b[1;33m)\u001b[0m\u001b[1;33m\u001b[0m\u001b[1;33m\u001b[0m\u001b[0m\n\u001b[1;32m---> 29\u001b[1;33m         \u001b[0mprint\u001b[0m\u001b[1;33m(\u001b[0m\u001b[0mcurr_term\u001b[0m\u001b[1;33m[\u001b[0m\u001b[1;33m-\u001b[0m\u001b[1;36m1\u001b[0m\u001b[1;33m]\u001b[0m\u001b[1;33m,\u001b[0m \u001b[0mend\u001b[0m \u001b[1;33m=\u001b[0m\u001b[1;34m\" \"\u001b[0m\u001b[1;33m)\u001b[0m\u001b[1;33m\u001b[0m\u001b[1;33m\u001b[0m\u001b[0m\n\u001b[0m\u001b[0;32m     30\u001b[0m \u001b[1;33m\u001b[0m\u001b[0m\n\u001b[0;32m     31\u001b[0m \u001b[0ma\u001b[0m \u001b[1;33m=\u001b[0m \u001b[0mlst\u001b[0m\u001b[1;33m[\u001b[0m\u001b[1;36m0\u001b[0m\u001b[1;33m]\u001b[0m\u001b[1;33m\u001b[0m\u001b[1;33m\u001b[0m\u001b[0m\n",
      "\u001b[1;31mTypeError\u001b[0m: 'int' object is not subscriptable"
     ]
    }
   ],
   "source": [
    "# creating an empty list\n",
    "lst = []\n",
    "\n",
    "# number of elements as input\n",
    "n = int(input(\"Enter number of elements : \"))\n",
    "\n",
    "# iterating till the range\n",
    "for i in range(0, n):\n",
    "\tele = int(input())\n",
    "\n",
    "\tlst.append(ele) # adding the element\n",
    "\t\n",
    "print(lst)\n",
    "\n",
    "# # Getting the Last element\n",
    "lst1 = []\n",
    "for i in lst:\n",
    "    for j in lst:\n",
    "        q = j+i\n",
    "        w = i\n",
    "        r = q-w\n",
    "        lst1.append(r)\n",
    "print(lst1[0])\n",
    "\n",
    "# To get the GP\n",
    "def printGP(a, r, inpu):\n",
    "    for i in range(0, n):\n",
    "        curr_term = a * pow(r, i)\n",
    "        print(curr_term[-1], end =\" \")\n",
    "\n",
    "a = lst[0]\n",
    "r = lst1[0]\n",
    "n = 5\n",
    "\n",
    "printGP(a, r, n)\n",
    "\n",
    "def check_geometric_progression(arr):\n",
    "    l = len(arr)\n",
    "\n",
    "    common_ratio = arr[1]/arr[0]\n",
    "\n",
    "    for i in range(2, l):\n",
    "        if arr[i]/arr[i - 1] != common_ratio:\n",
    "            return False\n",
    "\n",
    "    return True\n",
    "\n",
    "\n",
    "def arithmetic(nums):\n",
    "   nums = sorted(nums)\n",
    "\n",
    "   if len(nums) > 1:\n",
    "      const = nums[1] - nums[0]\n",
    "   else:\n",
    "      return nums\n",
    "        \n",
    "   for i in range(len(nums)-1):\n",
    "      if nums[i+1] - nums[i] != const:\n",
    "         return False\n",
    "   return True\n",
    "\n",
    "\n",
    "gp = check_geometric_progression(lst)\n",
    "print(gp)\n",
    "ap = arithmetic(lst)\n",
    "print(ap)\n",
    "\n",
    "if gp == True:\n",
    "    print(gp)\n",
    "elif ap == True:\n",
    "    print(b)\n",
    "else:\n",
    "    nterms = int(input())\n",
    "\n",
    "    ip = nterms + 2\n",
    "    n1, n2 = 0, 1\n",
    "    count = 0\n",
    "\n",
    "    while count < ip+1:\n",
    "       nth = n1 + n2\n",
    "       n1 = n2\n",
    "       n2 = nth\n",
    "       count += 1\n",
    "\n",
    "    print(count)"
   ]
  },
  {
   "cell_type": "code",
   "execution_count": null,
   "id": "6a28b653",
   "metadata": {},
   "outputs": [],
   "source": []
  }
 ],
 "metadata": {
  "kernelspec": {
   "display_name": "Python 3",
   "language": "python",
   "name": "python3"
  },
  "language_info": {
   "codemirror_mode": {
    "name": "ipython",
    "version": 3
   },
   "file_extension": ".py",
   "mimetype": "text/x-python",
   "name": "python",
   "nbconvert_exporter": "python",
   "pygments_lexer": "ipython3",
   "version": "3.8.8"
  }
 },
 "nbformat": 4,
 "nbformat_minor": 5
}
