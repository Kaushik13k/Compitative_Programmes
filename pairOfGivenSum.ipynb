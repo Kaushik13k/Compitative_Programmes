{
 "cells": [
  {
   "cell_type": "code",
   "execution_count": 2,
   "id": "95ee7ba7",
   "metadata": {},
   "outputs": [],
   "source": [
    "# Input: arr[] = {11, 15, 6, 8, 9, 10}, x = 16\n",
    "# Output: true\n",
    "# There is a pair (6, 10) with sum 16\n",
    "\n",
    "# Input: arr[] = {11, 15, 26, 38, 9, 10}, x = 35\n",
    "# Output: true\n",
    "# There is a pair (26, 9) with sum 35\n",
    "\n",
    "# Input: arr[] = {11, 15, 26, 38, 9, 10}, x = 45\n",
    "# Output: false\n",
    "# There is no pair with sum 45."
   ]
  },
  {
   "cell_type": "code",
   "execution_count": 3,
   "id": "50805f15",
   "metadata": {},
   "outputs": [
    {
     "name": "stdout",
     "output_type": "stream",
     "text": [
      "6\n",
      "11\n",
      "15\n",
      "6\n",
      "8\n",
      "9\n",
      "10\n",
      "[11, 15, 6, 8, 9, 10]\n"
     ]
    }
   ],
   "source": [
    "n = int(input())\n",
    "\n",
    "lst = []\n",
    "for i in range(n):\n",
    "    a = int(input())\n",
    "    lst.append(a)\n",
    "print(lst)"
   ]
  },
  {
   "cell_type": "code",
   "execution_count": 24,
   "id": "015ae5f1",
   "metadata": {},
   "outputs": [
    {
     "name": "stdout",
     "output_type": "stream",
     "text": [
      "16\n"
     ]
    }
   ],
   "source": [
    "key = int(input())"
   ]
  },
  {
   "cell_type": "code",
   "execution_count": 32,
   "id": "d47cd6bc",
   "metadata": {},
   "outputs": [
    {
     "name": "stdout",
     "output_type": "stream",
     "text": [
      "6 10\n"
     ]
    }
   ],
   "source": [
    "# BRUTEFORCE METHOD\n",
    "\n",
    "for i in range(n):\n",
    "#     print(lst[i])\n",
    "    for j in range(i+1, n):\n",
    "#         print(lst[j])\n",
    "        if lst[i] + lst[j] == key:\n",
    "            print(lst[i], lst[j])\n",
    "        else:\n",
    "            pass"
   ]
  },
  {
   "cell_type": "code",
   "execution_count": 33,
   "id": "28d2c1fa",
   "metadata": {},
   "outputs": [],
   "source": [
    "# SORTING\n",
    "lst2= lst\n",
    "for i in range(n):\n",
    "    for j in range(i+1, n):\n",
    "        if lst2[i] > lst2[j]:\n",
    "            temp = lst2[i]\n",
    "            lst2[i] = lst2[j]\n",
    "            lst2[j] = temp"
   ]
  },
  {
   "cell_type": "code",
   "execution_count": 34,
   "id": "9ef433ef",
   "metadata": {},
   "outputs": [
    {
     "name": "stdout",
     "output_type": "stream",
     "text": [
      "[6, 8, 9, 10, 11, 15]\n"
     ]
    }
   ],
   "source": [
    "print(lst2)"
   ]
  },
  {
   "cell_type": "code",
   "execution_count": 47,
   "id": "f9e7fd93",
   "metadata": {},
   "outputs": [
    {
     "name": "stdout",
     "output_type": "stream",
     "text": [
      "10 6\n",
      "[6, 8, 9, 11, 15]\n"
     ]
    }
   ],
   "source": [
    "# HASHING METHOD\n",
    "\n",
    "lst3 = lst2\n",
    "\n",
    "lst4 = []\n",
    "total = key\n",
    "for i in range(n):\n",
    "    result = total - lst3[i]\n",
    "    if result not in lst4:\n",
    "        lst4.append(lst3[i])\n",
    "    else:\n",
    "        print(lst3[i], result)\n",
    "print(lst4)"
   ]
  },
  {
   "cell_type": "code",
   "execution_count": null,
   "id": "891605bf",
   "metadata": {},
   "outputs": [],
   "source": []
  }
 ],
 "metadata": {
  "kernelspec": {
   "display_name": "Python 3",
   "language": "python",
   "name": "python3"
  },
  "language_info": {
   "codemirror_mode": {
    "name": "ipython",
    "version": 3
   },
   "file_extension": ".py",
   "mimetype": "text/x-python",
   "name": "python",
   "nbconvert_exporter": "python",
   "pygments_lexer": "ipython3",
   "version": "3.8.8"
  }
 },
 "nbformat": 4,
 "nbformat_minor": 5
}
