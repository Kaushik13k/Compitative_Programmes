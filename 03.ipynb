{
 "cells": [
  {
   "cell_type": "code",
   "execution_count": 2,
   "id": "3881e649",
   "metadata": {},
   "outputs": [],
   "source": [
    "## BOATS PROBLEM\n",
    "\n",
    "# People --> {1, 2, 3 ,3}\n",
    "# limit --> 3\n",
    "\n",
    "# Output --> 3"
   ]
  },
  {
   "cell_type": "code",
   "execution_count": 30,
   "id": "a2414b5a",
   "metadata": {},
   "outputs": [
    {
     "name": "stdout",
     "output_type": "stream",
     "text": [
      "2\n"
     ]
    }
   ],
   "source": [
    "people = [3, 2, 3, 1]\n",
    "# num = int(input())\n",
    "# limit = int(input())\n",
    "limit = 5\n",
    "\n",
    "# for i in range(num):\n",
    "#     n = int(input())\n",
    "#     people.append(n)\n",
    "\n",
    "#Sorting\n",
    "people.sort()\n",
    "\n",
    "# 2 pointers\n",
    "left = 0\n",
    "right = len(people) - 1\n",
    "\n",
    "# Count\n",
    "boat_number = 0\n",
    "\n",
    "while(left <= right):\n",
    "    if (left == right):\n",
    "        boat_number +=1\n",
    "        break\n",
    "    if (people[left] + people[right] <= limit):\n",
    "        left += 1\n",
    "    boat_number +=1\n",
    "    right -= 1\n",
    "        \n",
    "\n",
    "print(boat_number)"
   ]
  },
  {
   "cell_type": "code",
   "execution_count": null,
   "id": "c04a524f",
   "metadata": {},
   "outputs": [],
   "source": []
  }
 ],
 "metadata": {
  "kernelspec": {
   "display_name": "Python 3",
   "language": "python",
   "name": "python3"
  },
  "language_info": {
   "codemirror_mode": {
    "name": "ipython",
    "version": 3
   },
   "file_extension": ".py",
   "mimetype": "text/x-python",
   "name": "python",
   "nbconvert_exporter": "python",
   "pygments_lexer": "ipython3",
   "version": "3.8.8"
  }
 },
 "nbformat": 4,
 "nbformat_minor": 5
}
