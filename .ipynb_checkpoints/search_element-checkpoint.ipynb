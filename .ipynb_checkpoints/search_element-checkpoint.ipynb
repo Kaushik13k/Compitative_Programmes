{
 "cells": [
  {
   "cell_type": "code",
   "execution_count": 1,
   "id": "380d672a",
   "metadata": {},
   "outputs": [],
   "source": [
    "# Input  : arr[] = {5, 6, 7, 8, 9, 10, 1, 2, 3};\n",
    "#          key = 3\n",
    "# Output : Found at index 8\n",
    "\n",
    "# Input  : arr[] = {5, 6, 7, 8, 9, 10, 1, 2, 3};\n",
    "#          key = 30\n",
    "# Output : Not found\n",
    "\n",
    "# Input : arr[] = {30, 40, 50, 10, 20}\n",
    "#         key = 10   \n",
    "# Output : Found at index 3"
   ]
  },
  {
   "cell_type": "code",
   "execution_count": 3,
   "id": "45eaf39e",
   "metadata": {},
   "outputs": [
    {
     "name": "stdout",
     "output_type": "stream",
     "text": [
      "9\n",
      "5\n",
      "6\n",
      "7\n",
      "8\n",
      "9\n",
      "10\n",
      "1\n",
      "2\n",
      "3\n",
      "[5, 6, 7, 8, 9, 10, 1, 2, 3]\n"
     ]
    }
   ],
   "source": [
    "n = int(input())\n",
    "\n",
    "lst = []\n",
    "\n",
    "for i in range(n):\n",
    "    a = int(input())\n",
    "    lst.append(a)\n",
    "    \n",
    "print(lst)"
   ]
  },
  {
   "cell_type": "code",
   "execution_count": 15,
   "id": "c24f78d0",
   "metadata": {},
   "outputs": [
    {
     "name": "stdout",
     "output_type": "stream",
     "text": [
      "Enter the key! 3\n",
      "8\n"
     ]
    }
   ],
   "source": [
    "key = int(input(\"Enter the key! \"))\n",
    "\n",
    "for i in range(len(lst)):\n",
    "#     print(i)\n",
    "#     print(lst[i])\n",
    "    if lst[i] == key:\n",
    "        print(i)\n",
    "    else:\n",
    "        pass"
   ]
  },
  {
   "cell_type": "code",
   "execution_count": null,
   "id": "8c7d6178",
   "metadata": {},
   "outputs": [],
   "source": []
  }
 ],
 "metadata": {
  "kernelspec": {
   "display_name": "Python 3",
   "language": "python",
   "name": "python3"
  },
  "language_info": {
   "codemirror_mode": {
    "name": "ipython",
    "version": 3
   },
   "file_extension": ".py",
   "mimetype": "text/x-python",
   "name": "python",
   "nbconvert_exporter": "python",
   "pygments_lexer": "ipython3",
   "version": "3.8.8"
  }
 },
 "nbformat": 4,
 "nbformat_minor": 5
}
