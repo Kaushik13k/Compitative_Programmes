{
 "cells": [
  {
   "cell_type": "code",
   "execution_count": 1,
   "id": "f370c6c0",
   "metadata": {},
   "outputs": [],
   "source": [
    "# Mountain Problem\n",
    "# input = [0,3,4,5,2,1]\n",
    "# op = True\n",
    "\n",
    "# input = [0,3,4,5,5, 5]\n",
    "# op = False"
   ]
  },
  {
   "cell_type": "code",
   "execution_count": null,
   "id": "2db14723",
   "metadata": {},
   "outputs": [],
   "source": [
    "A = []\n",
    "n = int(input())\n",
    "\n",
    "for i in range(n):\n",
    "    l = int(input())\n",
    "    A.append(l)\n",
    "\n",
    "if (len(A)<3):\n",
    "     print('False')\n",
    "\n",
    "i = 1\n",
    "\n",
    "# For increasing\n",
    "while (i < len(A) and A[i] > A[i-1]):\n",
    "    i += 1\n",
    "\n",
    "# Constant or ends at start\n",
    "if (i == 1 or i == len(A)):\n",
    "    print('False')\n",
    "\n",
    "# For decreasing\n",
    "while (i < len(A) and A[i] < A[i-1]):\n",
    "    i += 1\n",
    "    \n",
    "print(i == len(A))"
   ]
  },
  {
   "cell_type": "code",
   "execution_count": null,
   "id": "8c2e4ef5",
   "metadata": {},
   "outputs": [],
   "source": []
  }
 ],
 "metadata": {
  "kernelspec": {
   "display_name": "Python 3",
   "language": "python",
   "name": "python3"
  },
  "language_info": {
   "codemirror_mode": {
    "name": "ipython",
    "version": 3
   },
   "file_extension": ".py",
   "mimetype": "text/x-python",
   "name": "python",
   "nbconvert_exporter": "python",
   "pygments_lexer": "ipython3",
   "version": "3.8.8"
  }
 },
 "nbformat": 4,
 "nbformat_minor": 5
}
