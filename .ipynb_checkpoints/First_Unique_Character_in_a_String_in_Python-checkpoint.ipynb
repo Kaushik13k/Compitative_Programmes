{
 "cells": [
  {
   "cell_type": "code",
   "execution_count": 3,
   "id": "cceb07e5",
   "metadata": {},
   "outputs": [
    {
     "name": "stdout",
     "output_type": "stream",
     "text": [
      "2\n",
      "-1\n",
      "1\n"
     ]
    }
   ],
   "source": [
    "class Solution(object):\n",
    "   def firstUniqChar(self, s):\n",
    "      \"\"\"\n",
    "      :type s: str\n",
    "      :rtype: int\n",
    "      \"\"\"\n",
    "      frequency = {}\n",
    "      for i in s:\n",
    "         if i not in frequency:\n",
    "            frequency[i] = 1\n",
    "         else:\n",
    "            frequency[i] +=1\n",
    "      for i in range(len(s)):\n",
    "         if frequency[s[i]] == 1:\n",
    "            return i\n",
    "      return -1\n",
    "ob1 = Solution()\n",
    "print(ob1.firstUniqChar(\"people\"))\n",
    "print(ob1.firstUniqChar(\"abaabba\"))\n",
    "print(ob1.firstUniqChar(\"kaushik\"))"
   ]
  },
  {
   "cell_type": "code",
   "execution_count": 7,
   "id": "3242a54a",
   "metadata": {},
   "outputs": [
    {
     "name": "stdout",
     "output_type": "stream",
     "text": [
      "{'p': 1}\n",
      "{'p': 1, 'e': 1}\n",
      "{'p': 1, 'e': 1, 'o': 1}\n",
      "{'p': 2, 'e': 1, 'o': 1}\n",
      "{'p': 2, 'e': 1, 'o': 1, 'l': 1}\n",
      "{'p': 2, 'e': 2, 'o': 1, 'l': 1}\n",
      "2\n",
      "4\n"
     ]
    }
   ],
   "source": [
    "s = 'people'\n",
    "\n",
    "frequency = {}\n",
    "for i in s:\n",
    "    if i not in frequency:\n",
    "        frequency[i] = 1\n",
    "        print(frequency)\n",
    "    else:\n",
    "        frequency[i] +=1\n",
    "        print(frequency)\n",
    "for i in range(len(s)):\n",
    "    if frequency[s[i]] == 1:\n",
    "        print(i)\n",
    "# print('-1')"
   ]
  },
  {
   "cell_type": "code",
   "execution_count": null,
   "id": "2ea72b2a",
   "metadata": {},
   "outputs": [],
   "source": []
  }
 ],
 "metadata": {
  "kernelspec": {
   "display_name": "Python 3",
   "language": "python",
   "name": "python3"
  },
  "language_info": {
   "codemirror_mode": {
    "name": "ipython",
    "version": 3
   },
   "file_extension": ".py",
   "mimetype": "text/x-python",
   "name": "python",
   "nbconvert_exporter": "python",
   "pygments_lexer": "ipython3",
   "version": "3.8.8"
  }
 },
 "nbformat": 4,
 "nbformat_minor": 5
}
