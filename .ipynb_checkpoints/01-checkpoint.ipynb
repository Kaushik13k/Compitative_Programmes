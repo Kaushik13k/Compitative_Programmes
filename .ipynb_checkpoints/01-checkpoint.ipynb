{
 "cells": [
  {
   "cell_type": "code",
   "execution_count": 37,
   "id": "15a9d736",
   "metadata": {},
   "outputs": [
    {
     "name": "stdout",
     "output_type": "stream",
     "text": [
      "the number of zeros is = 3\n",
      "1\n",
      "3\n",
      "8\n",
      "12\n",
      "[1, 3, 8, 12, 0, 0, 0]\n"
     ]
    }
   ],
   "source": [
    "## shift zeros\n",
    "\n",
    "nums = [1, 0, 3, 0, 8 ,0, 12]\n",
    "\n",
    "class solution:\n",
    "    \n",
    "    def zeros(nums):\n",
    "        zero_count = 0\n",
    "        \n",
    "        # Count the number of zeros!\n",
    "        for i in nums:\n",
    "            if i == 0:\n",
    "                zero_count += 1\n",
    "        print(f\"the number of zeros is = {zero_count}\")\n",
    "        \n",
    "        # Replace the position of the non zeros\n",
    "        position = 0\n",
    "        for n in nums:\n",
    "            if n != 0:\n",
    "                print(n)\n",
    "                nums[position] = n\n",
    "                position += 1\n",
    "        \n",
    "#         replace the last columns with zeros\n",
    "        for z in range(1, zero_count + 1):\n",
    "            nums[-z] = 0\n",
    "        print(nums)\n",
    "\n",
    "solution.zeros(nums)"
   ]
  },
  {
   "cell_type": "code",
   "execution_count": null,
   "id": "b3527d69",
   "metadata": {},
   "outputs": [],
   "source": []
  }
 ],
 "metadata": {
  "kernelspec": {
   "display_name": "Python 3",
   "language": "python",
   "name": "python3"
  },
  "language_info": {
   "codemirror_mode": {
    "name": "ipython",
    "version": 3
   },
   "file_extension": ".py",
   "mimetype": "text/x-python",
   "name": "python",
   "nbconvert_exporter": "python",
   "pygments_lexer": "ipython3",
   "version": "3.8.8"
  }
 },
 "nbformat": 4,
 "nbformat_minor": 5
}
